{
 "cells": [
  {
   "cell_type": "markdown",
   "metadata": {},
   "source": [
    "# Intrduction to NumPy\n",
    "\n",
    "\n",
    "#### 1. Import NumPy under the name np."
   ]
  },
  {
   "cell_type": "code",
   "execution_count": 1,
   "metadata": {},
   "outputs": [],
   "source": [
    "# your code here\n",
    "import numpy as np"
   ]
  },
  {
   "cell_type": "markdown",
   "metadata": {},
   "source": [
    "#### 2. Print your NumPy version."
   ]
  },
  {
   "cell_type": "code",
   "execution_count": 2,
   "metadata": {},
   "outputs": [
    {
     "name": "stdout",
     "output_type": "stream",
     "text": [
      "1.18.5\n"
     ]
    }
   ],
   "source": [
    "# your code here\n",
    "print(np.version.version)"
   ]
  },
  {
   "cell_type": "markdown",
   "metadata": {},
   "source": [
    "#### 3. Generate a 2x3x5 3-dimensional array with random values. Assign the array to variable *a*.\n",
    "**Challenge**: there are at least three easy ways that use numpy to generate random arrays. How many ways can you find?"
   ]
  },
  {
   "cell_type": "code",
   "execution_count": 3,
   "metadata": {},
   "outputs": [
    {
     "name": "stdout",
     "output_type": "stream",
     "text": [
      "[[[0.41280309 0.27127039 0.57015228 0.73253031 0.9496312 ]\n",
      "  [0.2808374  0.11167555 0.97669705 0.94867705 0.69607613]\n",
      "  [0.40659399 0.77238189 0.70818385 0.5112713  0.42393109]]\n",
      "\n",
      " [[0.73186673 0.27935034 0.70759707 0.70631987 0.45859849]\n",
      "  [0.18887342 0.3973089  0.85608531 0.45454882 0.99460483]\n",
      "  [0.78559129 0.77253656 0.28891967 0.43922565 0.67561542]]]\n"
     ]
    }
   ],
   "source": [
    "# Method 1 Random over normal distribution, mean 0.5\n",
    "a = np.random.random((2,3,5))\n",
    "print (a)"
   ]
  },
  {
   "cell_type": "code",
   "execution_count": 4,
   "metadata": {},
   "outputs": [
    {
     "name": "stdout",
     "output_type": "stream",
     "text": [
      "[[[0.07132055 0.72838759 0.45128954 0.89375574 0.00618644]\n",
      "  [0.62338017 0.58570609 0.79912446 0.61406039 0.44528666]\n",
      "  [0.4957169  0.82391513 0.52827404 0.74991225 0.59339779]]\n",
      "\n",
      " [[0.45077103 0.21264462 0.60222126 0.56408085 0.87654399]\n",
      "  [0.77970084 0.14907392 0.40586761 0.57386528 0.82265597]\n",
      "  [0.69729405 0.74242595 0.35989005 0.26626017 0.30806531]]]\n"
     ]
    }
   ],
   "source": [
    "# Method 2 Random over normal distribution, mean 0.5\n",
    "x = np.random.rand(2,3,5)\n",
    "print(x)"
   ]
  },
  {
   "cell_type": "code",
   "execution_count": 5,
   "metadata": {},
   "outputs": [
    {
     "name": "stdout",
     "output_type": "stream",
     "text": [
      "[[[-2.23859306  0.33138983 -0.25318781 -1.29328172  0.24817145]\n",
      "  [ 0.97585316  0.95687608  0.10318638  0.82489246  0.92146522]\n",
      "  [-0.38902489 -0.15181345  1.35996484 -0.29835353 -0.67043463]]\n",
      "\n",
      " [[-0.58912338 -0.55247746  0.50974991 -0.14754938  0.80776635]\n",
      "  [ 0.12919442  0.32644087 -0.03859804  0.18779734  0.15689518]\n",
      "  [ 1.15099581 -2.18367053 -0.07912842 -0.9268165   0.93505989]]]\n"
     ]
    }
   ],
   "source": [
    "# Method 3 Random over normal distribution, mean 0\n",
    "z = np.random.randn(2,3,5)\n",
    "print(z)"
   ]
  },
  {
   "cell_type": "markdown",
   "metadata": {},
   "source": [
    "#### 4. Print *a*.\n"
   ]
  },
  {
   "cell_type": "code",
   "execution_count": 6,
   "metadata": {},
   "outputs": [
    {
     "name": "stdout",
     "output_type": "stream",
     "text": [
      "[[[0.41280309 0.27127039 0.57015228 0.73253031 0.9496312 ]\n",
      "  [0.2808374  0.11167555 0.97669705 0.94867705 0.69607613]\n",
      "  [0.40659399 0.77238189 0.70818385 0.5112713  0.42393109]]\n",
      "\n",
      " [[0.73186673 0.27935034 0.70759707 0.70631987 0.45859849]\n",
      "  [0.18887342 0.3973089  0.85608531 0.45454882 0.99460483]\n",
      "  [0.78559129 0.77253656 0.28891967 0.43922565 0.67561542]]]\n"
     ]
    }
   ],
   "source": [
    "# your code here\n",
    "print(a)"
   ]
  },
  {
   "cell_type": "markdown",
   "metadata": {},
   "source": [
    "#### 5. Create a 5x2x3 3-dimensional array with all values equaling 1. Assign the array to variable *b*."
   ]
  },
  {
   "cell_type": "code",
   "execution_count": 8,
   "metadata": {},
   "outputs": [],
   "source": [
    "# your code here\n",
    "b = np.ones((5,2,3))"
   ]
  },
  {
   "cell_type": "markdown",
   "metadata": {},
   "source": [
    "#### 6. Print *b*.\n"
   ]
  },
  {
   "cell_type": "code",
   "execution_count": 9,
   "metadata": {},
   "outputs": [
    {
     "name": "stdout",
     "output_type": "stream",
     "text": [
      "[[[1. 1. 1.]\n",
      "  [1. 1. 1.]]\n",
      "\n",
      " [[1. 1. 1.]\n",
      "  [1. 1. 1.]]\n",
      "\n",
      " [[1. 1. 1.]\n",
      "  [1. 1. 1.]]\n",
      "\n",
      " [[1. 1. 1.]\n",
      "  [1. 1. 1.]]\n",
      "\n",
      " [[1. 1. 1.]\n",
      "  [1. 1. 1.]]]\n"
     ]
    }
   ],
   "source": [
    "# your code here\n",
    "print(b)"
   ]
  },
  {
   "cell_type": "markdown",
   "metadata": {
    "jupyter": {
     "source_hidden": true
    }
   },
   "source": [
    "#### 7. Do *a* and *b* have the same size? How do you prove that in Python code?"
   ]
  },
  {
   "cell_type": "code",
   "execution_count": 10,
   "metadata": {},
   "outputs": [
    {
     "name": "stdout",
     "output_type": "stream",
     "text": [
      "(2, 3, 5)\n",
      "(5, 2, 3)\n",
      "30\n",
      "30\n"
     ]
    }
   ],
   "source": [
    "# your code here\n",
    "print(a.shape)\n",
    "print(b.shape)\n",
    "\n",
    "print(a.size)\n",
    "print(b.size)"
   ]
  },
  {
   "cell_type": "markdown",
   "metadata": {},
   "source": [
    "#### 8. Are you able to add *a* and *b*? Why or why not?\n"
   ]
  },
  {
   "cell_type": "code",
   "execution_count": 11,
   "metadata": {},
   "outputs": [
    {
     "ename": "ValueError",
     "evalue": "operands could not be broadcast together with shapes (2,3,5) (5,2,3) ",
     "output_type": "error",
     "traceback": [
      "\u001b[1;31m---------------------------------------------------------------------------\u001b[0m",
      "\u001b[1;31mValueError\u001b[0m                                Traceback (most recent call last)",
      "\u001b[1;32m<ipython-input-11-8eaeaf6b406d>\u001b[0m in \u001b[0;36m<module>\u001b[1;34m\u001b[0m\n\u001b[0;32m      1\u001b[0m \u001b[1;31m# your answer here\u001b[0m\u001b[1;33m\u001b[0m\u001b[1;33m\u001b[0m\u001b[1;33m\u001b[0m\u001b[0m\n\u001b[1;32m----> 2\u001b[1;33m \u001b[0mprint\u001b[0m\u001b[1;33m(\u001b[0m\u001b[0mnp\u001b[0m\u001b[1;33m.\u001b[0m\u001b[0madd\u001b[0m\u001b[1;33m(\u001b[0m\u001b[0ma\u001b[0m\u001b[1;33m,\u001b[0m\u001b[0mb\u001b[0m\u001b[1;33m)\u001b[0m\u001b[1;33m)\u001b[0m\u001b[1;33m\u001b[0m\u001b[1;33m\u001b[0m\u001b[0m\n\u001b[0m",
      "\u001b[1;31mValueError\u001b[0m: operands could not be broadcast together with shapes (2,3,5) (5,2,3) "
     ]
    }
   ],
   "source": [
    "# your answer here\n",
    "print(np.add(a,b))"
   ]
  },
  {
   "cell_type": "markdown",
   "metadata": {},
   "source": [
    "#### 9. Transpose *b* so that it has the same structure of *a* (i.e. become a 2x3x5 array). Assign the transposed array to variable *c*."
   ]
  },
  {
   "cell_type": "code",
   "execution_count": 12,
   "metadata": {},
   "outputs": [
    {
     "data": {
      "text/plain": [
       "(2, 3, 5)"
      ]
     },
     "execution_count": 12,
     "metadata": {},
     "output_type": "execute_result"
    }
   ],
   "source": [
    "# your code here\n",
    "c = np.transpose(b, (1,2,0))\n",
    "c.shape"
   ]
  },
  {
   "cell_type": "markdown",
   "metadata": {},
   "source": [
    "#### 10. Try to add *a* and *c*. Now it should work. Assign the sum to variable *d*. But why does it work now?"
   ]
  },
  {
   "cell_type": "code",
   "execution_count": 13,
   "metadata": {},
   "outputs": [
    {
     "name": "stdout",
     "output_type": "stream",
     "text": [
      "[[[1.41280309 1.27127039 1.57015228 1.73253031 1.9496312 ]\n",
      "  [1.2808374  1.11167555 1.97669705 1.94867705 1.69607613]\n",
      "  [1.40659399 1.77238189 1.70818385 1.5112713  1.42393109]]\n",
      "\n",
      " [[1.73186673 1.27935034 1.70759707 1.70631987 1.45859849]\n",
      "  [1.18887342 1.3973089  1.85608531 1.45454882 1.99460483]\n",
      "  [1.78559129 1.77253656 1.28891967 1.43922565 1.67561542]]]\n"
     ]
    }
   ],
   "source": [
    "# your code/answer here\n",
    "d = np.add(a,c)\n",
    "print(d)"
   ]
  },
  {
   "cell_type": "markdown",
   "metadata": {},
   "source": [
    "#### 11. Print *a* and *d*. Notice the difference and relation of the two array in terms of the values? Explain."
   ]
  },
  {
   "cell_type": "code",
   "execution_count": 14,
   "metadata": {},
   "outputs": [
    {
     "name": "stdout",
     "output_type": "stream",
     "text": [
      "[[[0.41280309 0.27127039 0.57015228 0.73253031 0.9496312 ]\n",
      "  [0.2808374  0.11167555 0.97669705 0.94867705 0.69607613]\n",
      "  [0.40659399 0.77238189 0.70818385 0.5112713  0.42393109]]\n",
      "\n",
      " [[0.73186673 0.27935034 0.70759707 0.70631987 0.45859849]\n",
      "  [0.18887342 0.3973089  0.85608531 0.45454882 0.99460483]\n",
      "  [0.78559129 0.77253656 0.28891967 0.43922565 0.67561542]]]\n",
      "[[[1.41280309 1.27127039 1.57015228 1.73253031 1.9496312 ]\n",
      "  [1.2808374  1.11167555 1.97669705 1.94867705 1.69607613]\n",
      "  [1.40659399 1.77238189 1.70818385 1.5112713  1.42393109]]\n",
      "\n",
      " [[1.73186673 1.27935034 1.70759707 1.70631987 1.45859849]\n",
      "  [1.18887342 1.3973089  1.85608531 1.45454882 1.99460483]\n",
      "  [1.78559129 1.77253656 1.28891967 1.43922565 1.67561542]]]\n"
     ]
    }
   ],
   "source": [
    "# your code/answer here\n",
    "print(a)\n",
    "print(d)"
   ]
  },
  {
   "cell_type": "markdown",
   "metadata": {},
   "source": [
    "#### 12. Multiply *a* and *c*. Assign the result to *e*."
   ]
  },
  {
   "cell_type": "code",
   "execution_count": 15,
   "metadata": {},
   "outputs": [
    {
     "name": "stdout",
     "output_type": "stream",
     "text": [
      "[[[0.41280309 0.27127039 0.57015228 0.73253031 0.9496312 ]\n",
      "  [0.2808374  0.11167555 0.97669705 0.94867705 0.69607613]\n",
      "  [0.40659399 0.77238189 0.70818385 0.5112713  0.42393109]]\n",
      "\n",
      " [[0.73186673 0.27935034 0.70759707 0.70631987 0.45859849]\n",
      "  [0.18887342 0.3973089  0.85608531 0.45454882 0.99460483]\n",
      "  [0.78559129 0.77253656 0.28891967 0.43922565 0.67561542]]]\n"
     ]
    }
   ],
   "source": [
    "# your code here\n",
    "e = np.multiply(a,c)\n",
    "print(e)"
   ]
  },
  {
   "cell_type": "markdown",
   "metadata": {},
   "source": [
    "#### 13. Does *e* equal to *a*? Why or why not?\n"
   ]
  },
  {
   "cell_type": "code",
   "execution_count": 16,
   "metadata": {},
   "outputs": [
    {
     "name": "stdout",
     "output_type": "stream",
     "text": [
      "[[[0. 0. 0. 0. 0.]\n",
      "  [0. 0. 0. 0. 0.]\n",
      "  [0. 0. 0. 0. 0.]]\n",
      "\n",
      " [[0. 0. 0. 0. 0.]\n",
      "  [0. 0. 0. 0. 0.]\n",
      "  [0. 0. 0. 0. 0.]]]\n"
     ]
    }
   ],
   "source": [
    "# your code/answer here\n",
    "print(a-e)"
   ]
  },
  {
   "cell_type": "code",
   "execution_count": 17,
   "metadata": {},
   "outputs": [
    {
     "data": {
      "text/plain": [
       "array([[[ True,  True,  True,  True,  True],\n",
       "        [ True,  True,  True,  True,  True],\n",
       "        [ True,  True,  True,  True,  True]],\n",
       "\n",
       "       [[ True,  True,  True,  True,  True],\n",
       "        [ True,  True,  True,  True,  True],\n",
       "        [ True,  True,  True,  True,  True]]])"
      ]
     },
     "execution_count": 17,
     "metadata": {},
     "output_type": "execute_result"
    }
   ],
   "source": [
    "a==e"
   ]
  },
  {
   "cell_type": "markdown",
   "metadata": {},
   "source": [
    "#### 14. Identify the max, min, and mean values in *d*. Assign those values to variables *d_max*, *d_min* and *d_mean*."
   ]
  },
  {
   "cell_type": "code",
   "execution_count": 18,
   "metadata": {},
   "outputs": [
    {
     "name": "stdout",
     "output_type": "stream",
     "text": [
      "1.994604828082027\n",
      "1.1116755452534717\n",
      "1.5836584977930772\n"
     ]
    }
   ],
   "source": [
    "d_max = np.max(d)\n",
    "d_min = np.min(d)\n",
    "d_mean = np.mean(d)\n",
    "\n",
    "print(d_max)\n",
    "print(d_min)\n",
    "print(d_mean)"
   ]
  },
  {
   "cell_type": "markdown",
   "metadata": {},
   "source": [
    "#### 15. Now we want to label the values in *d*. First create an empty array *f* with the same shape (i.e. 2x3x5) as *d* using `np.empty`.\n"
   ]
  },
  {
   "cell_type": "code",
   "execution_count": 20,
   "metadata": {},
   "outputs": [
    {
     "name": "stdout",
     "output_type": "stream",
     "text": [
      "[[[0. 0. 0. 0. 0.]\n",
      "  [0. 0. 0. 0. 0.]\n",
      "  [0. 0. 0. 0. 0.]]\n",
      "\n",
      " [[0. 0. 0. 0. 0.]\n",
      "  [0. 0. 0. 0. 0.]\n",
      "  [0. 0. 0. 0. 0.]]]\n"
     ]
    }
   ],
   "source": [
    "# your code here\n",
    "z = np.empty((2,3,5))\n",
    "print(z)"
   ]
  },
  {
   "cell_type": "markdown",
   "metadata": {},
   "source": [
    "#### 16. Populate the values in *f*. \n",
    "\n",
    "For each value in *d*, if it's larger than *d_min* but smaller than *d_mean*, assign 25 to the corresponding value in *f*. If a value in *d* is larger than *d_mean* but smaller than *d_max*, assign 75 to the corresponding value in *f*. If a value equals to *d_mean*, assign 50 to the corresponding value in *f*. Assign 0 to the corresponding value(s) in *f* for *d_min* in *d*. Assign 100 to the corresponding value(s) in *f* for *d_max* in *d*. In the end, f should have only the following values: 0, 25, 50, 75, and 100.\n",
    "\n",
    "**Note**: you don't have to use Numpy in this question."
   ]
  },
  {
   "cell_type": "code",
   "execution_count": 28,
   "metadata": {},
   "outputs": [
    {
     "name": "stdout",
     "output_type": "stream",
     "text": [
      "[25, 25, 25, 75, 75, 25, 0, 75, 75, 75, 25, 75, 75, 25, 25, 75, 25, 75, 75, 25, 25, 25, 75, 25, 100, 75, 75, 25, 25, 75]\n"
     ]
    }
   ],
   "source": [
    "# your code here\n",
    "list_array = []\n",
    "for element in d:\n",
    "    for subelement in element:\n",
    "        for i in subelement:\n",
    "            if d_min < i < d_mean:\n",
    "                list_array.append(25)\n",
    "            elif d_mean < i < d_max:\n",
    "                list_array.append(75)\n",
    "            elif i == d_mean:\n",
    "                list_array.append(50)\n",
    "            elif i == d_min:\n",
    "                list_array.append(0)\n",
    "            else:\n",
    "                list_array.append(100)\n",
    "print(list_array)"
   ]
  },
  {
   "cell_type": "markdown",
   "metadata": {},
   "source": [
    "#### 17. Print *d* and *f*. Do you have your expected *f*?\n",
    "For instance, if your *d* is:\n",
    "```python\n",
    "[[[1.85836099, 1.67064465, 1.62576044, 1.40243961, 1.88454931],\n",
    "[1.75354326, 1.69403643, 1.36729252, 1.61415071, 1.12104981],\n",
    "[1.72201435, 1.1862918 , 1.87078449, 1.7726778 , 1.88180042]],\n",
    "[[1.44747908, 1.31673383, 1.02000951, 1.52218947, 1.97066381],\n",
    "[1.79129243, 1.74983003, 1.96028037, 1.85166831, 1.65450881],\n",
    "[1.18068344, 1.9587381 , 1.00656599, 1.93402165, 1.73514584]]]\n",
    "```\n",
    "Your *f* should be:\n",
    "```python\n",
    "[[[ 75.,  75.,  75.,  25.,  75.],\n",
    "[ 75.,  75.,  25.,  25.,  25.],\n",
    "[ 75.,  25.,  75.,  75.,  75.]],\n",
    "[[ 25.,  25.,  25.,  25., 100.],\n",
    "[ 75.,  75.,  75.,  75.,  75.],\n",
    "[ 25.,  75.,   0.,  75.,  75.]]]\n",
    "```"
   ]
  },
  {
   "cell_type": "code",
   "execution_count": 29,
   "metadata": {},
   "outputs": [
    {
     "name": "stdout",
     "output_type": "stream",
     "text": [
      "[ 25  25  25  75  75  25   0  75  75  75  25  75  75  25  25  75  25  75\n",
      "  75  25  25  25  75  25 100  75  75  25  25  75]\n"
     ]
    }
   ],
   "source": [
    "# your code here\n",
    "z2 = np.array(list_array)\n",
    "print(z2)"
   ]
  },
  {
   "cell_type": "code",
   "execution_count": 33,
   "metadata": {},
   "outputs": [
    {
     "name": "stdout",
     "output_type": "stream",
     "text": [
      "[[[ 25  25  25  75  75]\n",
      "  [ 25   0  75  75  75]\n",
      "  [ 25  75  75  25  25]]\n",
      "\n",
      " [[ 75  25  75  75  25]\n",
      "  [ 25  25  75  25 100]\n",
      "  [ 75  75  25  25  75]]]\n"
     ]
    }
   ],
   "source": [
    "z2 = np.reshape(z2, (2,3,5))\n",
    "print(z2)"
   ]
  },
  {
   "cell_type": "markdown",
   "metadata": {},
   "source": [
    "#### 18. Bonus question: instead of using numbers (i.e. 0, 25, 50, 75, and 100), use string values  (\"A\", \"B\", \"C\", \"D\", and \"E\") to label the array elements. For the example above, the expected result is:\n",
    "\n",
    "```python\n",
    "[[[ 'D',  'D',  'D',  'B',  'D'],\n",
    "[ 'D',  'D',  'B',  'B',  'B'],\n",
    "[ 'D',  'B',  'D',  'D',  'D']],\n",
    "[[ 'B',  'B',  'B',  'B',  'E'],\n",
    "[ 'D',  'D',  'D',  'D',  'D'],\n",
    "[ 'B',  'D',   'A',  'D', 'D']]]\n",
    "```\n",
    "**Note**: you don't have to use Numpy in this question."
   ]
  },
  {
   "cell_type": "code",
   "execution_count": 37,
   "metadata": {},
   "outputs": [
    {
     "name": "stdout",
     "output_type": "stream",
     "text": [
      "['A', 'A', 'A', 'B', 'B', 'A', 'D', 'B', 'B', 'B', 'A', 'B', 'B', 'A', 'A', 'B', 'A', 'B', 'B', 'A', 'A', 'A', 'B', 'A', 'E', 'B', 'B', 'A', 'A', 'B']\n"
     ]
    }
   ],
   "source": [
    "# your code here\n",
    "list_array2 = []\n",
    "for element in d:\n",
    "    for subelement in element:\n",
    "        for i in subelement:\n",
    "            if d_min < i < d_mean:\n",
    "                list_array2.append('A')\n",
    "            elif d_mean < i < d_max:\n",
    "                list_array2.append('B')\n",
    "            elif i == d_mean:\n",
    "                list_array2.append('C')\n",
    "            elif i == d_min:\n",
    "                list_array2.append('D')\n",
    "            else:\n",
    "                list_array2.append('E')\n",
    "print(list_array2)"
   ]
  },
  {
   "cell_type": "code",
   "execution_count": 38,
   "metadata": {},
   "outputs": [
    {
     "name": "stdout",
     "output_type": "stream",
     "text": [
      "['A' 'A' 'A' 'B' 'B' 'A' 'D' 'B' 'B' 'B' 'A' 'B' 'B' 'A' 'A' 'B' 'A' 'B'\n",
      " 'B' 'A' 'A' 'A' 'B' 'A' 'E' 'B' 'B' 'A' 'A' 'B']\n"
     ]
    }
   ],
   "source": [
    "z3 = np.array(list_array2)\n",
    "print(z3)"
   ]
  },
  {
   "cell_type": "code",
   "execution_count": 39,
   "metadata": {},
   "outputs": [
    {
     "name": "stdout",
     "output_type": "stream",
     "text": [
      "[[['A' 'A' 'A' 'B' 'B']\n",
      "  ['A' 'D' 'B' 'B' 'B']\n",
      "  ['A' 'B' 'B' 'A' 'A']]\n",
      "\n",
      " [['B' 'A' 'B' 'B' 'A']\n",
      "  ['A' 'A' 'B' 'A' 'E']\n",
      "  ['B' 'B' 'A' 'A' 'B']]]\n"
     ]
    }
   ],
   "source": [
    "z3 = np.reshape(z3, (2,3,5))\n",
    "print(z3)"
   ]
  }
 ],
 "metadata": {
  "kernelspec": {
   "display_name": "Python 3",
   "language": "python",
   "name": "python3"
  },
  "language_info": {
   "codemirror_mode": {
    "name": "ipython",
    "version": 3
   },
   "file_extension": ".py",
   "mimetype": "text/x-python",
   "name": "python",
   "nbconvert_exporter": "python",
   "pygments_lexer": "ipython3",
   "version": "3.8.3"
  }
 },
 "nbformat": 4,
 "nbformat_minor": 4
}
